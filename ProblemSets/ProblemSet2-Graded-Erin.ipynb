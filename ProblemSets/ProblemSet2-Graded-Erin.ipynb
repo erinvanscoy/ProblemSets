{
 "cells": [
  {
   "cell_type": "markdown",
   "id": "6a5456ba",
   "metadata": {},
   "source": [
    "# PSYC 5P02- Introduction to Programming for Psychology\n",
    "## Fall 2025\n",
    "\n",
    "### Problem Set #2 - Grading Rubric\n",
    "\n",
    "### Assigned September 25 - Due October 2\n",
    "### Late Penalty: 5%/day\n",
    "\n",
    "\n",
    "### Rubric:\n",
    "* Accuracy & Efficiency: 50%\n",
    "* Explaination and documentation: 50%\n",
    "\n",
    "---"
   ]
  },
  {
   "cell_type": "markdown",
   "id": "7eda2849",
   "metadata": {},
   "source": [
    "**Question 1:**\n",
    "\n",
    "_(a)_ Generate 100 normally distributed values with a mean of 0.7 and a standard deviation of .2. (/2)"
   ]
  },
  {
   "cell_type": "code",
   "execution_count": 1,
   "id": "92543f2e",
   "metadata": {},
   "outputs": [
    {
     "name": "stdout",
     "output_type": "stream",
     "text": [
      "[0.5560144666608595, 0.6601150961274864, 0.4352506864698947, 0.8759826922543038, 0.7492257361636925, 0.713920773109516, 0.48324242809165585, 0.6693236236952125, 0.7437604015481842, 0.4353841163450601, 0.5381991558465156, 0.680662257354369, 0.8107306701483896, 1.0664518179804854, 0.44664489749276676, 1.0101131174618196, 1.2312463433977547, 0.9126719427328303, 0.5043708595626679, 0.4809742796564529, 0.6403615560140526, 0.7174897686589717, 1.0098064956670654, 0.5238145306916601, 0.7394400745839506, 0.5102246703667365, 0.8823986828221568, 0.5561365352200336, 0.6314584396046324, 0.5696043134389975, 0.9364073200636369, 0.6950517041286547, 0.5020231528847879, 0.47338658709031217, 0.8620285300961945, 1.0607006252901752, 0.29128844213792215, 0.32958788429592745, 0.7556713210413757, 0.44857619286634837, 0.4232790811316417, 0.8570937014459732, 0.9726535258034876, 0.43269118508269916, 1.0774338157188927, 0.7628568995758052, 0.6734608145692976, 1.1061051238028008, 0.8552636320504893, 0.6360221082156738, 0.6286782489935663, 0.6004207932541532, 0.6425126269449517, 0.8922743885616751, 0.8834421541323358, 0.8630764852904477, 0.790240492853433, 0.6041646128007915, 0.8046588488555397, 0.7197534973704066, 0.685589779676823, 0.7941265031868205, 0.5854335087436178, 0.5342816621983171, 0.6812694062036513, 0.8998275813004832, 0.510409395693697, 0.3981277222651513, 0.4750019842510679, 0.7741706819076887, 0.955142190022658, 0.47850273190237524, 0.6242255739045983, 0.8742029218014896, 0.48831138534378193, 0.5147158188237585, 0.9363411416460927, 0.7778524825901117, 0.5358000800410239, 0.2628062159180873, 0.4016426034849411, 0.16079043300927187, 0.5290056175843575, 0.7238108366227656, 0.5661299316358444, 0.3032573315122027, 0.7091353350459448, 0.4659921500355153, 0.9520655578377852, 0.6241814185972099, 0.42056882094028275, 0.3355413165664215, 0.40582886189974904, 0.5739607556599353, 0.27517500431832054, 0.8938942743348812, 0.9201898450135501, 0.7738500454122251, 0.810014543077998, 0.817336610435021]\n"
     ]
    }
   ],
   "source": [
    "\n",
    "import random \n",
    "\n",
    "import random as rand \n",
    " \n",
    "ValueList = []\n",
    "\n",
    "#My Code for a For loop, which runs through all items in a range in this case (1-100)\n",
    "\n",
    "for i in range(100): #Starting the for loop with a range of 100 values\n",
    "     Val = rand.normalvariate(0.7,0.2) #Create a variable (Val) that equals the random library normalvariate function and specifies the given mean and SD\n",
    "     ValueList.append(Val) #Appending the data to my empty list\n",
    "print(ValueList) #Printing all the values appended in my list "
   ]
  },
  {
   "cell_type": "markdown",
   "id": "19131ca5",
   "metadata": {},
   "source": [
    "**Commnets:** \n",
    "- good work. Works as expected. Good use of the appaend method. Could also use this fun code: `random_numbers = [random.normalvariate(mu, sigma) for _ in range(100)]`\n",
    "- Code 2/2, documentation 2/2 **4/4**"
   ]
  },
  {
   "cell_type": "markdown",
   "id": "a13e5e64",
   "metadata": {},
   "source": [
    "_(b)_ Create a function that calculates the mean and standard deviation some list of values, and remove any values that exceed 2.5 SDs of the mean, recursively, until there are no outliers to remove. **Note:** The numbers to be trimmed should be an argument passed to the function. (/10)"
   ]
  },
  {
   "cell_type": "code",
   "execution_count": 2,
   "id": "53883e5e",
   "metadata": {},
   "outputs": [],
   "source": [
    "import numpy as np #importing from numpy library \n",
    "\n",
    "def funkyfunc (value): #defining a new function, taking information from a value (in this case the entire list, mylist of values)\n",
    "   mean = np.mean(value) \n",
    "   std = np.std(value)\n",
    "   upperlimit = mean + std * 2.5\n",
    "   lowerlimit = mean - std * 2.5\n",
    "   keep = [] #creating a new empty list called keep\n",
    "   outlier = [] #creating a new empty list called outliers\n",
    "   for i in value: #combining a for and an if statement, its saying for every individual value in the list\n",
    "      if i >= upperlimit: # if the value is greater than or equal too upperlimit \n",
    "          outlier.append (i) #append into the outlier list\n",
    "      elif i <= lowerlimit: # if the value is less than or equal to lowerlimit \n",
    "          outlier.append (i) #append into the outlier list\n",
    "      else: #ending the if statement, and saying all other values \n",
    "          keep.append(i) #all remaining values append into the keep list\n",
    "   return keep, outlier #return the values from both the keep and outlier lists \n",
    "          \n",
    "funkyfunc(ValueList) #checking to see if the function works - it did!\n",
    "\n",
    "      \n",
    "#1b) Building on my function so that it recursively removes outliers. For this question I did require AI assistance, I was having a really difficult time getting the code to continue removing outliers after one round. \n",
    "##This code helped me to figure out how to generate a while loop that continiously removes outliers until there is no longer any and break the loop based on the SD parameters. \n",
    "\n",
    "def remove_outliers(value): #Making a new function to try and remove outliers recursively\n",
    "    \n",
    "    cleaned = value [:] #Making a copy of the list so its not modified directly \n",
    "    \n",
    "    #While loop is saying to keep removing outliers until no more can be found in the given list\n",
    "    while True:\n",
    "        if len(cleaned) < 2: #Cannot compute the SD with fewer than two variables \n",
    "            break \n",
    "        mean = np.mean(cleaned) #Calculating the mean and SD of current list using numpy\n",
    "        std = np.std(cleaned) \n",
    "        if std ==0: #All values are the same if SD = 0, meaning that no outliers possible here\n",
    "            break\n",
    "        #print current stats and list length \n",
    "        print(f\"\\nCurrent list length: {len(cleaned)}\")\n",
    "        print(f\"Original list: {cleaned}\")\n",
    "        #create a new list with only values within 2.5 SD from the mean. This than filters out the outliers\n",
    "        new_list = [x for x in cleaned if abs(x - mean) <= 2.5 * std]\n",
    "        print (f\"After removing outliers: {new_list}\")\n",
    "        #Count how many values were removed in this iteration\n",
    "        removed_count = len(cleaned) - len(new_list)\n",
    "        print(f\"Removed {removed_count} outlier(s)\")\n",
    "       #No values were removed, stop the loop, no more outliers\n",
    "        if removed_count == 0:\n",
    "            break\n",
    "        #Update the new cleaned list and repeat the loop until break\n",
    "        cleaned = new_list\n",
    "        #Print the final result after all outliers were removed \n",
    "        print(f\"\\nFinal list length: {len(cleaned)}\")\n",
    "        return cleaned, mean, std #returning the new list, mean, and SD"
   ]
  },
  {
   "cell_type": "markdown",
   "id": "45a6b3d1",
   "metadata": {},
   "source": [
    "**Comments:**\n",
    "- Your first function was a good start, although using a loop to identify each value is somewhat inefficient. You can do everything at once by indexing, something like: ``cleaned_data = data[(data < sd_cut_above) & (data > sd_cut_below)]``\n",
    "- I understand why you went to AI for help here, although I would have preferred if you had used other sources, because it's not clear to me that you understand the code you've produced. For example ``new_list = [x for x in cleaned if abs(x - mean) <= 2.5 * std]`` is something that we haven't really gone throug I don't believe. Please be sure to document where you've found this solution and explain it in detail if we haven't covered this syntax before. \n",
    "- You're returning the variable 'cleaned' but which is the clean list, but I wanted the number of outliers removed. You also don't actually return those values to variables in part c) again making me question whether you understand what's happening\n",
    "- code: 3/5, documentation 3/5, **total: 6/10**"
   ]
  },
  {
   "cell_type": "markdown",
   "id": "137f3b2c",
   "metadata": {},
   "source": [
    "_(c)_ Apply the function created in _(b)_ to the the list of 100 numbers you generated in _(a)_. Produce the mean, SD, and number of outliers removed by the procedure. (/4)"
   ]
  },
  {
   "cell_type": "code",
   "execution_count": 6,
   "id": "a835e011",
   "metadata": {},
   "outputs": [
    {
     "name": "stdout",
     "output_type": "stream",
     "text": [
      "\n",
      "Current list length: 100\n",
      "Original list: [0.5560144666608595, 0.6601150961274864, 0.4352506864698947, 0.8759826922543038, 0.7492257361636925, 0.713920773109516, 0.48324242809165585, 0.6693236236952125, 0.7437604015481842, 0.4353841163450601, 0.5381991558465156, 0.680662257354369, 0.8107306701483896, 1.0664518179804854, 0.44664489749276676, 1.0101131174618196, 1.2312463433977547, 0.9126719427328303, 0.5043708595626679, 0.4809742796564529, 0.6403615560140526, 0.7174897686589717, 1.0098064956670654, 0.5238145306916601, 0.7394400745839506, 0.5102246703667365, 0.8823986828221568, 0.5561365352200336, 0.6314584396046324, 0.5696043134389975, 0.9364073200636369, 0.6950517041286547, 0.5020231528847879, 0.47338658709031217, 0.8620285300961945, 1.0607006252901752, 0.29128844213792215, 0.32958788429592745, 0.7556713210413757, 0.44857619286634837, 0.4232790811316417, 0.8570937014459732, 0.9726535258034876, 0.43269118508269916, 1.0774338157188927, 0.7628568995758052, 0.6734608145692976, 1.1061051238028008, 0.8552636320504893, 0.6360221082156738, 0.6286782489935663, 0.6004207932541532, 0.6425126269449517, 0.8922743885616751, 0.8834421541323358, 0.8630764852904477, 0.790240492853433, 0.6041646128007915, 0.8046588488555397, 0.7197534973704066, 0.685589779676823, 0.7941265031868205, 0.5854335087436178, 0.5342816621983171, 0.6812694062036513, 0.8998275813004832, 0.510409395693697, 0.3981277222651513, 0.4750019842510679, 0.7741706819076887, 0.955142190022658, 0.47850273190237524, 0.6242255739045983, 0.8742029218014896, 0.48831138534378193, 0.5147158188237585, 0.9363411416460927, 0.7778524825901117, 0.5358000800410239, 0.2628062159180873, 0.4016426034849411, 0.16079043300927187, 0.5290056175843575, 0.7238108366227656, 0.5661299316358444, 0.3032573315122027, 0.7091353350459448, 0.4659921500355153, 0.9520655578377852, 0.6241814185972099, 0.42056882094028275, 0.3355413165664215, 0.40582886189974904, 0.5739607556599353, 0.27517500431832054, 0.8938942743348812, 0.9201898450135501, 0.7738500454122251, 0.810014543077998, 0.817336610435021]\n",
      "After removing outliers: [0.5560144666608595, 0.6601150961274864, 0.4352506864698947, 0.8759826922543038, 0.7492257361636925, 0.713920773109516, 0.48324242809165585, 0.6693236236952125, 0.7437604015481842, 0.4353841163450601, 0.5381991558465156, 0.680662257354369, 0.8107306701483896, 1.0664518179804854, 0.44664489749276676, 1.0101131174618196, 0.9126719427328303, 0.5043708595626679, 0.4809742796564529, 0.6403615560140526, 0.7174897686589717, 1.0098064956670654, 0.5238145306916601, 0.7394400745839506, 0.5102246703667365, 0.8823986828221568, 0.5561365352200336, 0.6314584396046324, 0.5696043134389975, 0.9364073200636369, 0.6950517041286547, 0.5020231528847879, 0.47338658709031217, 0.8620285300961945, 1.0607006252901752, 0.29128844213792215, 0.32958788429592745, 0.7556713210413757, 0.44857619286634837, 0.4232790811316417, 0.8570937014459732, 0.9726535258034876, 0.43269118508269916, 1.0774338157188927, 0.7628568995758052, 0.6734608145692976, 1.1061051238028008, 0.8552636320504893, 0.6360221082156738, 0.6286782489935663, 0.6004207932541532, 0.6425126269449517, 0.8922743885616751, 0.8834421541323358, 0.8630764852904477, 0.790240492853433, 0.6041646128007915, 0.8046588488555397, 0.7197534973704066, 0.685589779676823, 0.7941265031868205, 0.5854335087436178, 0.5342816621983171, 0.6812694062036513, 0.8998275813004832, 0.510409395693697, 0.3981277222651513, 0.4750019842510679, 0.7741706819076887, 0.955142190022658, 0.47850273190237524, 0.6242255739045983, 0.8742029218014896, 0.48831138534378193, 0.5147158188237585, 0.9363411416460927, 0.7778524825901117, 0.5358000800410239, 0.2628062159180873, 0.4016426034849411, 0.16079043300927187, 0.5290056175843575, 0.7238108366227656, 0.5661299316358444, 0.3032573315122027, 0.7091353350459448, 0.4659921500355153, 0.9520655578377852, 0.6241814185972099, 0.42056882094028275, 0.3355413165664215, 0.40582886189974904, 0.5739607556599353, 0.27517500431832054, 0.8938942743348812, 0.9201898450135501, 0.7738500454122251, 0.810014543077998, 0.817336610435021]\n",
      "Removed 1 outlier(s)\n",
      "\n",
      "Final list length: 99\n"
     ]
    },
    {
     "data": {
      "text/plain": [
       "([0.5560144666608595,\n",
       "  0.6601150961274864,\n",
       "  0.4352506864698947,\n",
       "  0.8759826922543038,\n",
       "  0.7492257361636925,\n",
       "  0.713920773109516,\n",
       "  0.48324242809165585,\n",
       "  0.6693236236952125,\n",
       "  0.7437604015481842,\n",
       "  0.4353841163450601,\n",
       "  0.5381991558465156,\n",
       "  0.680662257354369,\n",
       "  0.8107306701483896,\n",
       "  1.0664518179804854,\n",
       "  0.44664489749276676,\n",
       "  1.0101131174618196,\n",
       "  0.9126719427328303,\n",
       "  0.5043708595626679,\n",
       "  0.4809742796564529,\n",
       "  0.6403615560140526,\n",
       "  0.7174897686589717,\n",
       "  1.0098064956670654,\n",
       "  0.5238145306916601,\n",
       "  0.7394400745839506,\n",
       "  0.5102246703667365,\n",
       "  0.8823986828221568,\n",
       "  0.5561365352200336,\n",
       "  0.6314584396046324,\n",
       "  0.5696043134389975,\n",
       "  0.9364073200636369,\n",
       "  0.6950517041286547,\n",
       "  0.5020231528847879,\n",
       "  0.47338658709031217,\n",
       "  0.8620285300961945,\n",
       "  1.0607006252901752,\n",
       "  0.29128844213792215,\n",
       "  0.32958788429592745,\n",
       "  0.7556713210413757,\n",
       "  0.44857619286634837,\n",
       "  0.4232790811316417,\n",
       "  0.8570937014459732,\n",
       "  0.9726535258034876,\n",
       "  0.43269118508269916,\n",
       "  1.0774338157188927,\n",
       "  0.7628568995758052,\n",
       "  0.6734608145692976,\n",
       "  1.1061051238028008,\n",
       "  0.8552636320504893,\n",
       "  0.6360221082156738,\n",
       "  0.6286782489935663,\n",
       "  0.6004207932541532,\n",
       "  0.6425126269449517,\n",
       "  0.8922743885616751,\n",
       "  0.8834421541323358,\n",
       "  0.8630764852904477,\n",
       "  0.790240492853433,\n",
       "  0.6041646128007915,\n",
       "  0.8046588488555397,\n",
       "  0.7197534973704066,\n",
       "  0.685589779676823,\n",
       "  0.7941265031868205,\n",
       "  0.5854335087436178,\n",
       "  0.5342816621983171,\n",
       "  0.6812694062036513,\n",
       "  0.8998275813004832,\n",
       "  0.510409395693697,\n",
       "  0.3981277222651513,\n",
       "  0.4750019842510679,\n",
       "  0.7741706819076887,\n",
       "  0.955142190022658,\n",
       "  0.47850273190237524,\n",
       "  0.6242255739045983,\n",
       "  0.8742029218014896,\n",
       "  0.48831138534378193,\n",
       "  0.5147158188237585,\n",
       "  0.9363411416460927,\n",
       "  0.7778524825901117,\n",
       "  0.5358000800410239,\n",
       "  0.2628062159180873,\n",
       "  0.4016426034849411,\n",
       "  0.16079043300927187,\n",
       "  0.5290056175843575,\n",
       "  0.7238108366227656,\n",
       "  0.5661299316358444,\n",
       "  0.3032573315122027,\n",
       "  0.7091353350459448,\n",
       "  0.4659921500355153,\n",
       "  0.9520655578377852,\n",
       "  0.6241814185972099,\n",
       "  0.42056882094028275,\n",
       "  0.3355413165664215,\n",
       "  0.40582886189974904,\n",
       "  0.5739607556599353,\n",
       "  0.27517500431832054,\n",
       "  0.8938942743348812,\n",
       "  0.9201898450135501,\n",
       "  0.7738500454122251,\n",
       "  0.810014543077998,\n",
       "  0.817336610435021],\n",
       " 0.668143342859631,\n",
       " 0.21548299866576218)"
      ]
     },
     "execution_count": 6,
     "metadata": {},
     "output_type": "execute_result"
    }
   ],
   "source": [
    "##1c)Calling up both the functions I made to remove outliers below. This code removed one outlier. The new mean = 0.662, while the SD = 0.192.\n",
    "\n",
    "funkyfunc(ValueList) \n",
    "remove_outliers(ValueList)\n"
   ]
  },
  {
   "cell_type": "markdown",
   "id": "384e9f27",
   "metadata": {},
   "source": [
    "**comments:**\n",
    "- You didn't successfully return the mean, std, or number of outliers when running the code this way because you call to ``remove_outliers()`` doesn't have any variables to return the values in teh function to.\n",
    "- Code: 1/2, documentation: 1/2 **total: 2/4**\n",
    "\n",
    "**Question 1 total: 12/18**"
   ]
  },
  {
   "cell_type": "markdown",
   "id": "a138ffb4",
   "metadata": {},
   "source": [
    "**Question 2:** \n",
    "\n",
    "*(a)* Create a list with 10 names of hypothetical students (use only lists for now). Create a second list of 10 theoretical grades between 76 and 100. Assume the order of the grades is the same order of the list of names."
   ]
  },
  {
   "cell_type": "code",
   "execution_count": 7,
   "id": "2e193c8a",
   "metadata": {},
   "outputs": [
    {
     "name": "stdout",
     "output_type": "stream",
     "text": [
      "['Erin', 'Jen', 'Tom', 'Ron', 'Adam', 'Sarah', 'Lilly', 'Bubs', 'Garry', 'Barb']\n",
      "['76', '77', '79', '87', '88', '90', '78', '94', '99', '96']\n"
     ]
    }
   ],
   "source": [
    "\n",
    "#2a) Hypothetical lists of student names and grades\n",
    "\n",
    "Studentnames =[\"Erin\",\"Jen\", \"Tom\", \"Ron\", \"Adam\", \"Sarah\", \"Lilly\", \"Bubs\", \"Garry\", \"Barb\"]\n",
    "\n",
    "print (Studentnames)\n",
    "\n",
    "Grades =[\"76\", \"77\", \"79\", \"87\", \"88\", \"90\", \"78\", \"94\", \"99\", \"96\"]\n",
    "\n",
    "print (Grades)   "
   ]
  },
  {
   "cell_type": "markdown",
   "id": "f4bb550e",
   "metadata": {},
   "source": [
    "**Commnents:**\n",
    "- The grades are being defined as type _string_ and not type _int_ which is fine, but it casues you problems in part b)\n",
    "- code 1/2, documentation 1/2. **total: 2/4**"
   ]
  },
  {
   "cell_type": "markdown",
   "id": "4dadfce7",
   "metadata": {},
   "source": [
    "*(b)* Write a script that loops through each of the students, and then return's their letter grade based on this convention:\n",
    "\n",
    "* A+: >=90\n",
    "* 85 >= A <90\n",
    "* 80 >= A- <85\n",
    "* 76 >= B+ < 80\n",
    "\n",
    "(/6)"
   ]
  },
  {
   "cell_type": "code",
   "execution_count": 9,
   "id": "108fa11a",
   "metadata": {},
   "outputs": [
    {
     "ename": "TypeError",
     "evalue": "'>=' not supported between instances of 'str' and 'int'",
     "output_type": "error",
     "traceback": [
      "\u001b[0;31m---------------------------------------------------------------------------\u001b[0m",
      "\u001b[0;31mTypeError\u001b[0m                                 Traceback (most recent call last)",
      "\u001b[0;32m<ipython-input-9-8daf1b68572d>\u001b[0m in \u001b[0;36m<module>\u001b[0;34m\u001b[0m\n\u001b[1;32m      5\u001b[0m \u001b[0;34m\u001b[0m\u001b[0m\n\u001b[1;32m      6\u001b[0m \u001b[0;32mfor\u001b[0m \u001b[0mgrade\u001b[0m\u001b[0;34m,\u001b[0m \u001b[0mname\u001b[0m \u001b[0;32min\u001b[0m \u001b[0mzip\u001b[0m\u001b[0;34m(\u001b[0m\u001b[0mGrades\u001b[0m\u001b[0;34m,\u001b[0m \u001b[0mStudentnames\u001b[0m\u001b[0;34m)\u001b[0m\u001b[0;34m:\u001b[0m\u001b[0;31m#This is a for loop that is taken from two lists (grades and student names)\u001b[0m\u001b[0;34m\u001b[0m\u001b[0;34m\u001b[0m\u001b[0m\n\u001b[0;32m----> 7\u001b[0;31m     \u001b[0;32mif\u001b[0m \u001b[0mgrade\u001b[0m \u001b[0;34m>=\u001b[0m \u001b[0;36m90\u001b[0m\u001b[0;34m:\u001b[0m \u001b[0;31m#Here I am setting the first parameter of the if statement, if the grade is greater than 90 print an A+ and the name corresponding to the grade.\u001b[0m\u001b[0;34m\u001b[0m\u001b[0;34m\u001b[0m\u001b[0m\n\u001b[0m\u001b[1;32m      8\u001b[0m         \u001b[0mprint\u001b[0m \u001b[0;34m(\u001b[0m\u001b[0;34m\"A+ \"\u001b[0m \u001b[0;34m+\u001b[0m \u001b[0mname\u001b[0m\u001b[0;34m)\u001b[0m\u001b[0;34m\u001b[0m\u001b[0;34m\u001b[0m\u001b[0m\n\u001b[1;32m      9\u001b[0m     \u001b[0;32melif\u001b[0m \u001b[0mgrade\u001b[0m \u001b[0;34m>=\u001b[0m \u001b[0;36m85\u001b[0m \u001b[0;32mand\u001b[0m \u001b[0mgrade\u001b[0m \u001b[0;34m<\u001b[0m\u001b[0;36m90\u001b[0m\u001b[0;34m:\u001b[0m\u001b[0;31m#Here I am specifying the next parameters, if grade is greater than or equal to 85 and less then 90 print A and the corresponding name to the grade.\u001b[0m\u001b[0;34m\u001b[0m\u001b[0;34m\u001b[0m\u001b[0m\n",
      "\u001b[0;31mTypeError\u001b[0m: '>=' not supported between instances of 'str' and 'int'"
     ]
    }
   ],
   "source": [
    "#2b) This is my code for combining both lists with a for loop and if statement \n",
    "##This code is going through both lists of data (Grades and Studentnames). \n",
    "# The if statement is setting parameters to sink up both lists based on grade and student name.\n",
    "\n",
    "\n",
    "for grade, name in zip(Grades, Studentnames):#This is a for loop that is taken from two lists (grades and student names)\n",
    "    if grade >= 90: #Here I am setting the first parameter of the if statement, if the grade is greater than 90 print an A+ and the name corresponding to the grade.\n",
    "        print (\"A+ \" + name)\n",
    "    elif grade >= 85 and grade <90:#Here I am specifying the next parameters, if grade is greater than or equal to 85 and less then 90 print A and the corresponding name to the grade.\n",
    "        print (\"A \" + name)#\n",
    "    elif grade >= 80 and grade <85:#Here is the next parameters, in which if the grade is greater than or equal to 80 and less than 85 print A- and the corressponding name to the grade.\n",
    "        print (\"A- \" + name)\n",
    "    else:\n",
    "        print (\"B+ \" + name) #This is the last paraemter, its saying all the rest of the data points, print under B+ with the corresponding name. \n",
    "      \n"
   ]
  },
  {
   "cell_type": "markdown",
   "id": "9dc46994",
   "metadata": {},
   "source": [
    "**Comments:**\n",
    "- Code does not run! Returns the above error. Because you've defined grades as type _str_ you can't compare them using the ``>=``. The code would work in theory, but did you not test it out?\n",
    "- Also, you didn't document what the zip command does.\n",
    "- code: 2/3, documentation: 1/3, **total: 3/6**\n",
    "\n",
    "**Question 2 total: 5/10**"
   ]
  },
  {
   "cell_type": "markdown",
   "id": "c13480ea",
   "metadata": {},
   "source": [
    "**Question 3:**\tWrite a function called ‘gradeLookup’ that takes, as an input from the user, a student’s name. Then  look up the info based on Question 2, and write to the command window the student’s name, numerical grade, and letter grade. \n",
    "\n",
    "**Bonus:** Can you figure out a way to ensure that the name entered is one that exists in the list?? "
   ]
  },
  {
   "cell_type": "code",
   "execution_count": 14,
   "id": "caccc235",
   "metadata": {},
   "outputs": [
    {
     "name": "stdout",
     "output_type": "stream",
     "text": [
      "Enter students name Sarah\n"
     ]
    },
    {
     "data": {
      "text/plain": [
       "'A+ 90% Sarah '"
      ]
     },
     "execution_count": 14,
     "metadata": {},
     "output_type": "execute_result"
    }
   ],
   "source": [
    "#3a)\n",
    "\n",
    "#I have created a function (gradelookup) that asks you to input student names, I then made an If statement to identify the parameters associated with each name.\n",
    "\n",
    "def gradeLookup(name):\n",
    "    name = input(\"Enter students name \") #Input student name to get detail \n",
    "    if name == \"Erin\": #Telling the function the name parameters\n",
    "        gradeDet = \"B+ \" + \"76% \" + \"Erin \" #Giving the grade detail of that student \n",
    "    elif name == \"Jen\":\n",
    "        gradeDet = \"B+ \" + \"77% \" + \"Jen \"\n",
    "    elif name == \"Tom\":\n",
    "        gradeDet = \"B+ \" + \"79% \" + \"Tom \"\n",
    "    elif name == \"Ron\":\n",
    "        gradeDet = \"A \" + \"87% \" + \"Ron \"\n",
    "    elif name == \"Adam\":\n",
    "        gradeDet = \"A \" + \"88% \" + \"Adam \"\n",
    "    elif name == \"Sarah\":\n",
    "        gradeDet = \"A+ \" + \"90% \" + \"Sarah \"\n",
    "    elif name == \"Lilly\":\n",
    "        gradeDet = \"B+ \" + \"78% \" + \"Lilly \"\n",
    "    elif name == \"Bubs\":\n",
    "        gradeDet = \"A+ \" + \"94% \" + \"Bubs \"\n",
    "    elif name == \"Garry\":\n",
    "        gradeDet = \"A+ \" + \"99% \" + \"Garry \"\n",
    "    elif name == \"Barb\":\n",
    "        gradeDet = \"A+ \" + \"96% \" + \"Barb \"\n",
    "    return gradeDet #return the grade detail inputted based on the user inputted name \n",
    "\n",
    "gradeLookup(name) #Run the function and insert a name with (\"\") to get the corresponding data "
   ]
  },
  {
   "cell_type": "markdown",
   "id": "b0abbf24",
   "metadata": {},
   "source": [
    "**For this first solution:**\n",
    "- I wanted you to use the variables you created above to look up the info -- it almost never makes sense to hard-code outputs like you have done here. What happens if their grades change? The whole idea is to build in efficiency. \n",
    "- Also, in this comment:\n",
    "> #Run the function and insert a name with (\"\") to get the corresponding data \n",
    "- Do you realy need the \"\"? The code runs fine without it. "
   ]
  },
  {
   "cell_type": "code",
   "execution_count": 19,
   "id": "e7af6256",
   "metadata": {},
   "outputs": [
    {
     "ename": "NameError",
     "evalue": "name 'gradelookup' is not defined",
     "output_type": "error",
     "traceback": [
      "\u001b[0;31m---------------------------------------------------------------------------\u001b[0m",
      "\u001b[0;31mNameError\u001b[0m                                 Traceback (most recent call last)",
      "\u001b[0;32m<ipython-input-19-3b988326694d>\u001b[0m in \u001b[0;36m<module>\u001b[0;34m\u001b[0m\n\u001b[1;32m     23\u001b[0m \u001b[0;34m\u001b[0m\u001b[0m\n\u001b[1;32m     24\u001b[0m \u001b[0;31m#calling Erin name and grade here by indexing 0\u001b[0m\u001b[0;34m\u001b[0m\u001b[0;34m\u001b[0m\u001b[0;34m\u001b[0m\u001b[0m\n\u001b[0;32m---> 25\u001b[0;31m \u001b[0mgradelookup\u001b[0m\u001b[0;34m(\u001b[0m\u001b[0mGrades\u001b[0m\u001b[0;34m[\u001b[0m\u001b[0;36m0\u001b[0m\u001b[0;34m]\u001b[0m\u001b[0;34m,\u001b[0m \u001b[0mStudentnames\u001b[0m\u001b[0;34m[\u001b[0m\u001b[0;36m0\u001b[0m\u001b[0;34m]\u001b[0m\u001b[0;34m)\u001b[0m\u001b[0;34m\u001b[0m\u001b[0;34m\u001b[0m\u001b[0m\n\u001b[0m",
      "\u001b[0;31mNameError\u001b[0m: name 'gradelookup' is not defined"
     ]
    }
   ],
   "source": [
    "##3b) This is the second way I found to answer this question. Here I again created a function that takes user input after you put in two lists with an index spot, in this case student grades and student name list.\n",
    "##For example you insert the index of the data you want (gradeLookup2(Grades[0], Studentnames[0]), then it will ask you to clarify the students name. In this case you would insert Erin. Then the data will appear. \n",
    "\n",
    "def gradeLookup2(grade, namelist): ##Arguments - placeholders for anything you want (in this case two lists )\n",
    "    name = input (\"Enter student name \") #user input, the user has to input something and the function will then fun through the if/for loop and the result will appear\n",
    "    if name not in namelist:\n",
    "       letter =  print(\"Student name not found\") #Making everything return and print out command equal to letter,so that when return letter all criteria can be returned if plausible \n",
    "\n",
    "   \n",
    "    if grade >= str(90):\n",
    "        letter = \"A+ \" + namelist + \"  \" +  str(grade) #Here I am specifying the detail on allocating which grade (from grade list) will receive which letter grade. \n",
    "    elif grade >= str(85) and grade <str(90): \n",
    "        letter = \"A \" + namelist + \"  \" +  str(grade) #I am then setting up letter as the variable in which all of this information is equal to so that I can return it.\n",
    "    elif grade >= str(80) and grade <str(85): \n",
    "        letter = \"A- \"+ namelist + \"  \" +  str(grade)\n",
    "    elif grade >= str(76) and grade <str(80):\n",
    "        letter = \"B+ \" + namelist + \"  \" +  str(grade) \n",
    "    else: \n",
    "            name not in namelist\n",
    "            letter =  print(\"Student name not found\")      \n",
    "        \n",
    "    return letter #I am returning letter which will have the correct data based on parameters of the if statement. \n",
    "\n",
    "#calling Erin name and grade here by indexing 0 \n",
    "gradelookup(Grades[0], Studentnames[0]) "
   ]
  },
  {
   "cell_type": "markdown",
   "id": "f2824cb7",
   "metadata": {},
   "source": [
    "**Comments for this section:**\n",
    "- This is closer to what I was looking for, because you'er making use of the variables created earlier, however:\n",
    "- You're asking for a name, and then not using it to look up the grade. You're just inputting a grade, assigning that grade to the inputted name, and then printing it. Again, not quite what you're trying to do here. \n",
    "- The better solution would be to 1) find the index of the inputted name into the list of names 2) obtain the corresponding grade from the same indexed location of the list of grades, c) determine the letter grade of that grade.\n",
    "- code: 1.5/3, documentation: 2/3, **total: 3.5/6**"
   ]
  },
  {
   "cell_type": "markdown",
   "id": "a90071a5",
   "metadata": {},
   "source": [
    "**Question 4:** Write a Python class called PersonalityProfile that stores a participant’s scores on each of the Big Five traits (Openness, Conscientiousness, Agreeableness, Extraversion, Neuroticism) on a scale from 1–5.\n",
    "\n",
    "Your class should include:\n",
    "\n",
    "An \\_\\_init\\_\\_ method that initializes the five traits, as well as the participant number.\n",
    "\n",
    "A method _is_introvert()_ that returns True if the participant’s Extraversion score is less than 3, and False otherwise (feel free to make a similar method for all 5 traits).\n",
    "\n",
    "**Bonus:** Create a method called _summary()_ that returns a string describing the participant’s strongest trait (the one with the highest score).\n"
   ]
  },
  {
   "cell_type": "code",
   "execution_count": 24,
   "id": "1696cd0d",
   "metadata": {},
   "outputs": [
    {
     "name": "stdout",
     "output_type": "stream",
     "text": [
      "True\n"
     ]
    }
   ],
   "source": [
    "\n",
    "#Q4)Making a class for personality profile cases and creating a function to pull up results. \n",
    "      \n",
    "class PersonalityProfile: #Class for personality profile\n",
    "\n",
    "    def __init__(self, participantnumb, openness, conscientiousness, agreeableness, extraversion, neuroticism): #Defining my class here, using the init method to allocate values to objects (in this case the big five personality traits).\n",
    "        self.participantnumb = participantnumb #Setting up all my objects to be instance variables (unique to each object I created in this class)\n",
    "        self.openness = openness\n",
    "        self.conscientiousness = conscientiousness\n",
    "        self.agreeableness = agreeableness\n",
    "        self.extraversion = extraversion\n",
    "        self.neuroticism = neuroticism\n",
    "          \n",
    "    def is_introvert(self): #defining a function within the class, in which the user can access the instances (in this case extraversion score)\n",
    "        if self.extraversion <3: #Setting up an if statement to assign parameters for extraversion scores. \n",
    "              print (\"True\") \n",
    "        else:\n",
    "             print (\"False\")\n",
    "            \n",
    "\n",
    "Person1 = PersonalityProfile(2, 3 , 5, 4 , 2, 3) ##Putting the personality scores for fake person (person 1) in the right place, as corresponding to their fake data and the class set up.\n",
    "\n",
    "Person1.is_introvert() ##Calling the function within the class to see if person1 is high on the extraversion scale and considered an extrovert. \n",
    "##Could do this for all the big five items if I continued on and created each function within the class. \n"
   ]
  },
  {
   "cell_type": "markdown",
   "id": "64bbf475",
   "metadata": {},
   "source": [
    "**Comments:**\n",
    "\n",
    "- This is good. Only thing is your if statement on the ``is_extroversion`` is backwards -- should read ``self.extraversion <3``\n",
    "- code: 3.5/4, documentation, 4/4, **total: 7.5/8**"
   ]
  },
  {
   "cell_type": "markdown",
   "id": "1cb77e7c",
   "metadata": {},
   "source": [
    "**Total grade: 28/38**"
   ]
  }
 ],
 "metadata": {
  "kernelspec": {
   "display_name": "Python 3",
   "language": "python",
   "name": "python3"
  },
  "language_info": {
   "codemirror_mode": {
    "name": "ipython",
    "version": 3
   },
   "file_extension": ".py",
   "mimetype": "text/x-python",
   "name": "python",
   "nbconvert_exporter": "python",
   "pygments_lexer": "ipython3",
   "version": "3.8.8"
  }
 },
 "nbformat": 4,
 "nbformat_minor": 5
}
